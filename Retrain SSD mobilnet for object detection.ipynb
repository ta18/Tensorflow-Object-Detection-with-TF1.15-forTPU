{
 "cells": [
  {
   "cell_type": "markdown",
   "metadata": {},
   "source": [
    "# Retrain a SSD MobilNet model for object detection with Tensorflow1"
   ]
  },
  {
   "cell_type": "markdown",
   "metadata": {},
   "source": [
    "This notebook allows you to train a network of neurons for object detection.\n",
    "You will use Tensorflow 1 to train a quantified MobilNet SSD model (V1 or V2).\n",
    "The interesting thing about training your model on Tensorflow 1 is that the models offered on *Tensorflow Model Zoo* are already quantified and therefore allow to use the network on TPU.\n",
    "\n",
    "To use your trained network on TPU you can look at this notebook: link\n",
    "\n",
    "This training is done on a GPU configuration : \n"
   ]
  },
  {
   "cell_type": "markdown",
   "metadata": {},
   "source": [
    "### File tree : "
   ]
  },
  {
   "cell_type": "markdown",
   "metadata": {},
   "source": [
    "tod_tf1  \n",
    "\n",
    "├── pre_trained   \n",
    "│\t└── <pre_trained-network>   \n",
    "├── training  \n",
    "│   └──<project>  \n",
    "│       ├── <pre_trained-network>  \n",
    "│       ├── train.record  \n",
    "│       ├── test.record  \n",
    "│       ├── pipeline.config \n",
    "│       ├── form_detection.pbtxt\n",
    "│       ├── images   \n",
    "│           ├── test  \n",
    "│           │   └── *.jpg, *.png ... *.xml  \n",
    "│           ├── train  \n",
    "│           │   └── *.jpg, *.png ... *.xml  \n",
    "│           └── *.csv  \n",
    "│\n",
    "    \n",
    "        \n",
    "└── models  \n",
    "    └── research  \n",
    "        └── object_detection\n",
    "    "
   ]
  },
  {
   "cell_type": "markdown",
   "metadata": {},
   "source": [
    "## 1. Installation "
   ]
  },
  {
   "cell_type": "markdown",
   "metadata": {},
   "source": [
    "#### Create a virtual environnement TF1 : "
   ]
  },
  {
   "cell_type": "code",
   "execution_count": null,
   "metadata": {},
   "outputs": [],
   "source": [
    "! conda create -n tf1 python=3.6\n",
    "! conda activate tf1 \n",
    "! mkdir tod_tf1 \n",
    "! cd tod_tf1/\n",
    "#téléchargement du git "
   ]
  },
  {
   "cell_type": "markdown",
   "metadata": {},
   "source": [
    "#### Installation of Tensorflow on your environnement :"
   ]
  },
  {
   "cell_type": "code",
   "execution_count": null,
   "metadata": {},
   "outputs": [],
   "source": [
    "! pip uninstall tensorflow -y\n",
    "! pip install tensorflow-gpu==1.15\n",
    "# pip install tensorflow==1.15 # for a CPU "
   ]
  },
  {
   "cell_type": "markdown",
   "metadata": {},
   "source": [
    "#### Installation des models Tensorflow et de l'API google coral : "
   ]
  },
  {
   "cell_type": "code",
   "execution_count": null,
   "metadata": {},
   "outputs": [],
   "source": [
    "! git clone https://github.com/tensorflow/models.git"
   ]
  },
  {
   "cell_type": "code",
   "execution_count": null,
   "metadata": {},
   "outputs": [],
   "source": [
    "! cd models && git checkout f788046ca876a8820e05b0b48c1fc2e16b0955bc"
   ]
  },
  {
   "cell_type": "code",
   "execution_count": null,
   "metadata": {},
   "outputs": [],
   "source": [
    "! cd ..\n",
    "! git clone https://github.com/google-coral/tutorials.git\n",
    "! cp -r tutorials/docker/object_detection/scripts/* models/research/"
   ]
  },
  {
   "cell_type": "markdown",
   "metadata": {},
   "source": [
    "#### Installation of Cython : "
   ]
  },
  {
   "cell_type": "code",
   "execution_count": null,
   "metadata": {},
   "outputs": [],
   "source": [
    "sudo apt-get install -y python python-tk\n",
    "pip install Cython contextlib2 pillow lxml jupyter matplotlib"
   ]
  },
  {
   "cell_type": "markdown",
   "metadata": {},
   "source": [
    "#### Installation of protoc : "
   ]
  },
  {
   "cell_type": "code",
   "execution_count": null,
   "metadata": {},
   "outputs": [],
   "source": [
    "! wget https://www.github.com/google/protobuf/releases/download/v3.0.0/protoc-3.0.0-linux-x86_64.zip\n",
    "! unzip protoc-3.0.0-linux-x86_64.zip -d proto3\n",
    "! mkdir -p local/bin && mkdir -p local/include\n",
    "! mv proto3/bin/* local/bin\n",
    "! mv proto3/include/* local/include\n",
    "! rm -rf proto3 protoc-3.0.0-linux-x86_64.zip"
   ]
  },
  {
   "cell_type": "markdown",
   "metadata": {},
   "source": [
    "#### Installation of cocoapi : "
   ]
  },
  {
   "cell_type": "code",
   "execution_count": null,
   "metadata": {},
   "outputs": [],
   "source": [
    "! git clone --depth 1 https://github.com/cocodataset/cocoapi.git\n",
    "! (cd cocoapi/PythonAPI && make -j8)\n",
    "! cp -r cocoapi/PythonAPI/pycocotools/ models/research/\n",
    "! rm -rf cocoapi"
   ]
  },
  {
   "cell_type": "markdown",
   "metadata": {},
   "source": [
    "PYTHONPATH : "
   ]
  },
  {
   "cell_type": "markdown",
   "metadata": {},
   "source": [
    "## 2. Create your dataset "
   ]
  },
  {
   "cell_type": "markdown",
   "metadata": {},
   "source": [
    "To retrain a model you have to create your **own dataset** : \n",
    "1. Take picture of the object that you have to detect (if you work on the Reachy robot go to this notebook : like)\n",
    "2. Annotate images with labelImg -> *.xml files\n",
    "3. Convert XML annotated files to CSV format\n",
    "4. Convert CSV annotated files to tensorflow record format\n",
    "5. Create the file label_map.pbtxt which contains the labels of the objects to be recognized.\n",
    "\n",
    "For all of this step go to https://learn.e.ros4.pro/fr/vision/object_detection_tf2/ section 5. "
   ]
  },
  {
   "cell_type": "markdown",
   "metadata": {},
   "source": [
    "## 3. Training"
   ]
  },
  {
   "cell_type": "markdown",
   "metadata": {},
   "source": [
    "Download the model *ssd_mobilenet_v2_quantized_coco* on the tensorflow model zoo : https://github.com/tensorflow/models/blob/master/research/object_detection/g3doc/tf1_detection_zoo.md"
   ]
  },
  {
   "cell_type": "code",
   "execution_count": null,
   "metadata": {},
   "outputs": [],
   "source": [
    "! cd models/research\n",
    "! ./retrain_detection_model.sh --num_training_steps 50000 --num_eval_steps 100"
   ]
  },
  {
   "cell_type": "markdown",
   "metadata": {},
   "source": [
    "## 4.  Export the network from the . pb format to the . tflite format:"
   ]
  },
  {
   "cell_type": "code",
   "execution_count": null,
   "metadata": {},
   "outputs": [],
   "source": [
    "! export ckpt_number=50000\n",
    "! python object_detection/export_tflite_ssd_graph.py   --pipeline_config_path=\"${CKPT_DIR}/pipeline.config\"   --trained_checkpoint_prefix=\"${TRAIN_DIR}/model.ckpt-${ckpt_number}\"   --output_directory=\"${OUTPUT_DIR}\"   --add_postprocessing_op=true\n",
    "! tflite_convert   --output_file=\"${OUTPUT_DIR}/output_tflite_graph.tflite\"   --graph_def_file=\"${OUTPUT_DIR}/tflite_graph.pb\"   --inference_type=QUANTIZED_UINT8   --input_arrays=\"${INPUT_TENSORS}\"   --output_arrays=\"${OUTPUT_TENSORS}\"   --mean_values=128   --std_dev_values=128   --input_shapes=1,300,300,3   --change_concat_input_ranges=false   --allow_nudging_weights_to_use_fast_gemm_kernel=true   --allow_custom_ops"
   ]
  },
  {
   "cell_type": "markdown",
   "metadata": {},
   "source": [
    "## 5. Compile for edgeTPU"
   ]
  },
  {
   "cell_type": "markdown",
   "metadata": {},
   "source": [
    "### 5.1 Dowload the edgeTPU compiler "
   ]
  },
  {
   "cell_type": "code",
   "execution_count": null,
   "metadata": {},
   "outputs": [],
   "source": [
    "! curl https://packages.cloud.google.com/apt/doc/apt-key.gpg | sudo apt-key add -\n",
    "! echo \"deb https://packages.cloud.google.com/apt coral-edgetpu-stable main\" | sudo tee /etc/apt/sources.list.d/coral-edgetpu.list\n",
    "! sudo apt-get update\n",
    "! sudo apt-get install edgetpu-compiler"
   ]
  },
  {
   "cell_type": "markdown",
   "metadata": {},
   "source": [
    "### 5.2 Turn tflite into an edgeTPU compatible version:"
   ]
  },
  {
   "cell_type": "code",
   "execution_count": null,
   "metadata": {},
   "outputs": [],
   "source": [
    "! cd ~/tod_tf1/training/form_detection/ssd_mobilenet_v1_quantized_300x300_coco_2019_01_03/model1/tflite\n",
    "! edgetpu_compiler output_tflite_graph.tflite"
   ]
  },
  {
   "cell_type": "markdown",
   "metadata": {},
   "source": [
    "## 6. Use your trained network on the TPU : "
   ]
  },
  {
   "cell_type": "markdown",
   "metadata": {},
   "source": [
    "I use my network on the Reachy robot with this notebook : link "
   ]
  },
  {
   "cell_type": "code",
   "execution_count": null,
   "metadata": {},
   "outputs": [],
   "source": []
  }
 ],
 "metadata": {
  "kernelspec": {
   "display_name": "Python 3",
   "language": "python",
   "name": "python3"
  },
  "language_info": {
   "codemirror_mode": {
    "name": "ipython",
    "version": 3
   },
   "file_extension": ".py",
   "mimetype": "text/x-python",
   "name": "python",
   "nbconvert_exporter": "python",
   "pygments_lexer": "ipython3",
   "version": "3.8.5"
  }
 },
 "nbformat": 4,
 "nbformat_minor": 4
}
