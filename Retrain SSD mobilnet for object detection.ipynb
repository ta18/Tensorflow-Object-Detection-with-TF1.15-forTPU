{
 "cells": [
  {
   "cell_type": "markdown",
   "metadata": {},
   "source": [
    "# Retrain a SSD MobilNet model for object detection with Tensorflow1"
   ]
  },
  {
   "cell_type": "markdown",
   "metadata": {},
   "source": [
    "This notebook allows you to train a network of neurons for object detection.\n",
    "You will use Tensorflow 1 to train a quantified MobilNet SSD model (V1 or V2).\n",
    "The interesting thing about training your model on Tensorflow 1 is that the models offered on *Tensorflow Model Zoo* are already quantified and therefore allow to use the network on TPU.\n",
    "\n",
    "To use your trained network on TPU you can look at this notebook: link\n",
    "\n",
    "This training is done on a GPU configuration : \n"
   ]
  },
  {
   "cell_type": "markdown",
   "metadata": {},
   "source": [
    "### File tree : "
   ]
  },
  {
   "cell_type": "markdown",
   "metadata": {},
   "source": [
    "tod_tf1  \n",
    "\n",
    "├── pre_trained   \n",
    "│\t└── <pre_trained-network>   \n",
    "├── training  \n",
    "│   └──<project>  \n",
    "│       ├── <pre_trained-network>  \n",
    "│       ├── train.record  \n",
    "│       ├── test.record  \n",
    "│       ├── pipeline.config \n",
    "│       ├── form_detection.pbtxt\n",
    "│       ├── images   \n",
    "│           ├── test  \n",
    "│           │   └── *.jpg, *.png ... *.xml  \n",
    "│           ├── train  \n",
    "│           │   └── *.jpg, *.png ... *.xml  \n",
    "│           └── *.csv  \n",
    "│       \n",
    "└── models  \n",
    "    └── research  \n",
    "        └── object_detection\n",
    "    "
   ]
  },
  {
   "cell_type": "markdown",
   "metadata": {},
   "source": [
    "Download the model *ssd_mobilenet_v2_quantized_coco* on the tensorflow model zoo : https://github.com/tensorflow/models/blob/master/research/object_detection/g3doc/tf1_detection_zoo.md\n",
    "Go to tod_tf1/pre_trained and create a folder name such as the model and put all the file inside\n"
   ]
  },
  {
   "cell_type": "markdown",
   "metadata": {},
   "source": [
    "## 1. Installation "
   ]
  },
  {
   "cell_type": "markdown",
   "metadata": {},
   "source": [
    "Tcheck that your are in tod_tf1 folder : "
   ]
  },
  {
   "cell_type": "code",
   "execution_count": 25,
   "metadata": {},
   "outputs": [
    {
     "name": "stdout",
     "output_type": "stream",
     "text": [
      "/home/jlc/Tensorflow-Object-Detection-with-TF1.15-forTPU\r\n"
     ]
    }
   ],
   "source": [
    "! pwd "
   ]
  },
  {
   "cell_type": "code",
   "execution_count": null,
   "metadata": {},
   "outputs": [],
   "source": [
    "! mkdir pre_trained\n",
    "! cd pre_trained && mkdir ssd_mobilenet_v2_quantized_300x300_coco_2019_01_03\n",
    "! mkdir training && mkdir form_detection\n",
    "! cd training/form_detection && mkdir images && mkdir ssd_mobilenet_v2_quantized_300x300_coco_2019_01_03\n",
    "! cd training/form_detection/images && mkdir train && mkdir test "
   ]
  },
  {
   "cell_type": "markdown",
   "metadata": {},
   "source": [
    "#### Installation of Tensorflow models and google coral tutorials : "
   ]
  },
  {
   "cell_type": "code",
   "execution_count": 14,
   "metadata": {},
   "outputs": [
    {
     "name": "stdout",
     "output_type": "stream",
     "text": [
      "Clonage dans 'models'...\n",
      "remote: Enumerating objects: 58799, done.\u001b[K\n",
      "remote: Counting objects: 100% (109/109), done.\u001b[K\n",
      "remote: Compressing objects: 100% (73/73), done.\u001b[K\n",
      "^Cception d'objets:  33% (19686/58799), 161.32 Mio | 8.46 Mio/s\n"
     ]
    }
   ],
   "source": [
    "! git clone https://github.com/tensorflow/models.git"
   ]
  },
  {
   "cell_type": "code",
   "execution_count": 29,
   "metadata": {},
   "outputs": [
    {
     "name": "stdout",
     "output_type": "stream",
     "text": [
      "Mise à jour des fichiers: 100% (4062/4062), fait.\n",
      "Note : basculement sur 'f788046ca876a8820e05b0b48c1fc2e16b0955bc'.\n",
      "\n",
      "Vous êtes dans l'état « HEAD détachée ». Vous pouvez visiter, faire des modifications\n",
      "expérimentales et les valider. Il vous suffit de faire un autre basculement pour\n",
      "abandonner les commits que vous faites dans cet état sans impacter les autres branches\n",
      "\n",
      "Si vous voulez créer une nouvelle branche pour conserver les commits que vous créez,\n",
      "il vous suffit d'utiliser l'option -c de la commande switch comme ceci :\n",
      "\n",
      "  git switch -c <nom-de-la-nouvelle-branche>\n",
      "\n",
      "Ou annuler cette opération avec :\n",
      "\n",
      "  git switch -\n",
      "\n",
      "Désactivez ce conseil en renseignant la variable de configuration advice.detachedHead à false\n",
      "\n",
      "HEAD est maintenant sur f788046c Add model_dir to all tests to avoid \"resource not found error\". (#6143)\n"
     ]
    }
   ],
   "source": [
    "! cd models && git checkout f788046ca876a8820e05b0b48c1fc2e16b0955bc"
   ]
  },
  {
   "cell_type": "code",
   "execution_count": 34,
   "metadata": {},
   "outputs": [],
   "source": [
    "! git clone https://github.com/google-coral/tutorials.git\n",
    "! cp -r tutorials/docker/object_detection/scripts/* models/research/"
   ]
  },
  {
   "cell_type": "code",
   "execution_count": 36,
   "metadata": {},
   "outputs": [
    {
     "name": "stdout",
     "output_type": "stream",
     "text": [
      "Clonage dans 'pycoral'...\n",
      "remote: Enumerating objects: 206, done.\u001b[K\n",
      "remote: Counting objects: 100% (206/206), done.\u001b[K\n",
      "remote: Compressing objects: 100% (151/151), done.\u001b[K\n",
      "remote: Total 206 (delta 46), reused 198 (delta 41), pack-reused 0\u001b[K\n",
      "Réception d'objets: 100% (206/206), 2.88 Mio | 5.11 Mio/s, fait.\n",
      "Résolution des deltas: 100% (46/46), fait.\n",
      "Sous-module 'libcoral' (https://github.com/google-coral/libcoral) enregistré pour le chemin 'libcoral'\n",
      "Sous-module 'libedgetpu' (https://github.com/google-coral/libedgetpu) enregistré pour le chemin 'libedgetpu'\n",
      "Sous-module 'test_data' (https://github.com/google-coral/test_data) enregistré pour le chemin 'test_data'\n",
      "Clonage dans '/home/jlc/Bureau/tod_tf1/pycoral/libcoral'...\n",
      "remote: Enumerating objects: 224, done.        \n",
      "remote: Counting objects: 100% (224/224), done.        \n",
      "remote: Compressing objects: 100% (188/188), done.        \n",
      "remote: Total 224 (delta 34), reused 216 (delta 29), pack-reused 0        \n",
      "Réception d'objets: 100% (224/224), 8.74 Mio | 9.91 Mio/s, fait.\n",
      "Résolution des deltas: 100% (34/34), fait.\n",
      "Clonage dans '/home/jlc/Bureau/tod_tf1/pycoral/libedgetpu'...\n",
      "remote: Enumerating objects: 784, done.        \n",
      "remote: Counting objects: 100% (784/784), done.        \n",
      "remote: Compressing objects: 100% (348/348), done.        \n",
      "remote: Total 784 (delta 494), reused 717 (delta 431), pack-reused 0        \n",
      "Réception d'objets: 100% (784/784), 562.41 Kio | 4.73 Mio/s, fait.\n",
      "Résolution des deltas: 100% (494/494), fait.\n",
      "Clonage dans '/home/jlc/Bureau/tod_tf1/pycoral/test_data'...\n",
      "remote: Enumerating objects: 268, done.        \n",
      "remote: Counting objects: 100% (4/4), done.        \n",
      "remote: Compressing objects: 100% (2/2), done.        \n",
      "remote: Total 268 (delta 2), reused 2 (delta 2), pack-reused 264        \n",
      "Réception d'objets: 100% (268/268), 495.05 Mio | 10.03 Mio/s, fait.\n",
      "Résolution des deltas: 100% (111/111), fait.\n",
      "Chemin de sous-module 'libcoral' : '8b21123c74d1f19c94b9d37aa16b26b80ef5e83b' extrait\n",
      "Sous-module 'libedgetpu' (https://github.com/google-coral/libedgetpu) enregistré pour le chemin 'libcoral/libedgetpu'\n",
      "Sous-module 'test_data' (https://github.com/google-coral/test_data) enregistré pour le chemin 'libcoral/test_data'\n",
      "Clonage dans '/home/jlc/Bureau/tod_tf1/pycoral/libcoral/libedgetpu'...\n",
      "remote: Enumerating objects: 784, done.        \n",
      "remote: Counting objects: 100% (784/784), done.        \n",
      "remote: Compressing objects: 100% (348/348), done.        \n",
      "remote: Total 784 (delta 494), reused 717 (delta 431), pack-reused 0        \n",
      "Réception d'objets: 100% (784/784), 562.41 Kio | 4.08 Mio/s, fait.\n",
      "Résolution des deltas: 100% (494/494), fait.\n",
      "Clonage dans '/home/jlc/Bureau/tod_tf1/pycoral/libcoral/test_data'...\n",
      "remote: Enumerating objects: 268, done.        \n",
      "remote: Counting objects: 100% (4/4), done.        \n",
      "remote: Compressing objects: 100% (2/2), done.        \n",
      "remote: Total 268 (delta 2), reused 2 (delta 2), pack-reused 264        \n",
      "Réception d'objets: 100% (268/268), 495.05 Mio | 9.39 Mio/s, fait.\n",
      "Résolution des deltas: 100% (111/111), fait.\n",
      "Chemin de sous-module 'libcoral/libedgetpu' : '14eee1a076aa1af7ec1ae3c752be79ae2604a708' extrait\n",
      "Chemin de sous-module 'libcoral/test_data' : 'c21de4450f88a20ac5968628d375787745932a5a' extrait\n",
      "Chemin de sous-module 'libedgetpu' : '14eee1a076aa1af7ec1ae3c752be79ae2604a708' extrait\n",
      "Chemin de sous-module 'test_data' : 'c21de4450f88a20ac5968628d375787745932a5a' extrait\n"
     ]
    }
   ],
   "source": [
    "! cd /home/jlc/Bureau/tod_tf1&& git clone --recurse-submodules https://github.com/google-coral/pycoral"
   ]
  },
  {
   "cell_type": "markdown",
   "metadata": {},
   "source": [
    "#### Installation of Cython : "
   ]
  },
  {
   "cell_type": "code",
   "execution_count": null,
   "metadata": {},
   "outputs": [],
   "source": [
    "sudo apt-get install -y python python-tk\n",
    "pip install Cython contextlib2 pillow lxml jupyter matplotlib"
   ]
  },
  {
   "cell_type": "markdown",
   "metadata": {},
   "source": [
    "#### Installation of protoc : "
   ]
  },
  {
   "cell_type": "code",
   "execution_count": null,
   "metadata": {},
   "outputs": [],
   "source": [
    "! wget https://www.github.com/google/protobuf/releases/download/v3.0.0/protoc-3.0.0-linux-x86_64.zip\n",
    "! unzip protoc-3.0.0-linux-x86_64.zip -d proto3\n",
    "! mkdir -p local/bin && mkdir -p local/include\n",
    "! mv proto3/bin/* local/bin\n",
    "! mv proto3/include/* local/include\n",
    "! rm -rf proto3 protoc-3.0.0-linux-x86_64.zip"
   ]
  },
  {
   "cell_type": "markdown",
   "metadata": {},
   "source": [
    "#### Installation of cocoapi : "
   ]
  },
  {
   "cell_type": "code",
   "execution_count": null,
   "metadata": {},
   "outputs": [],
   "source": [
    "! git clone --depth 1 https://github.com/cocodataset/cocoapi.git\n",
    "! (cd cocoapi/PythonAPI && make -j8)\n",
    "! cp -r cocoapi/PythonAPI/pycocotools/ models/research/\n",
    "! rm -rf cocoapi"
   ]
  },
  {
   "cell_type": "markdown",
   "metadata": {},
   "source": [
    "#### Installation of EdgeTPU compiler : "
   ]
  },
  {
   "cell_type": "code",
   "execution_count": null,
   "metadata": {},
   "outputs": [],
   "source": [
    "! curl https://packages.cloud.google.com/apt/doc/apt-key.gpg | sudo apt-key add -\n",
    "! echo \"deb https://packages.cloud.google.com/apt coral-edgetpu-stable main\" | sudo tee /etc/apt/sources.list.d/coral-edgetpu.list\n",
    "! sudo apt-get update\n",
    "! sudo apt-get install edgetpu-compiler"
   ]
  },
  {
   "cell_type": "markdown",
   "metadata": {},
   "source": [
    "PYTHONPATH : "
   ]
  },
  {
   "cell_type": "markdown",
   "metadata": {},
   "source": [
    "## 2. Create your dataset "
   ]
  },
  {
   "cell_type": "markdown",
   "metadata": {},
   "source": [
    "To retrain a model you have to create your **own dataset** : \n",
    "1. Take picture of the object that you have to detect (if you work on the Reachy robot go to this notebook : like)\n",
    "2. Annotate images with labelImg -> *.xml files\n",
    "3. Convert XML annotated files to CSV format\n",
    "4. Convert CSV annotated files to tensorflow record format\n",
    "5. Create the file label_map.pbtxt which contains the labels of the objects to be recognized.\n",
    "\n",
    "For all of this step go to https://learn.e.ros4.pro/fr/vision/object_detection_tf2/ section 5. "
   ]
  },
  {
   "cell_type": "markdown",
   "metadata": {},
   "source": [
    "## 3. Training"
   ]
  },
  {
   "cell_type": "markdown",
   "metadata": {},
   "source": [
    "#### Configure the pipeline.config file"
   ]
  },
  {
   "cell_type": "markdown",
   "metadata": {},
   "source": [
    "The configuration file pipeline.config in the folder pre_trained/ssd_mobilenet_v2_quantized_300x300_coco_2019_01_03 has to be copy in the training/form_detection/ssd_mobilenet_v2_quantized_300x300_coco_2019_01_03 folder and modifie : \n",
    "\n",
    "photo\n"
   ]
  },
  {
   "cell_type": "markdown",
   "metadata": {},
   "source": [
    "#### Start the training "
   ]
  },
  {
   "cell_type": "code",
   "execution_count": null,
   "metadata": {},
   "outputs": [],
   "source": [
    "! cd models/research\n",
    "! ./retrain_detection_model.sh --num_training_steps 50000 --num_eval_steps 100"
   ]
  },
  {
   "cell_type": "markdown",
   "metadata": {},
   "source": [
    "## 4.  Export the network from the . pb format to the . tflite format:"
   ]
  },
  {
   "cell_type": "code",
   "execution_count": null,
   "metadata": {},
   "outputs": [],
   "source": [
    "! export ckpt_number=50000\n",
    "! python object_detection/export_tflite_ssd_graph.py   --pipeline_config_path=\"${CKPT_DIR}/pipeline.config\"   --trained_checkpoint_prefix=\"${TRAIN_DIR}/model.ckpt-${ckpt_number}\"   --output_directory=\"${OUTPUT_DIR}\"   --add_postprocessing_op=true\n",
    "! tflite_convert   --output_file=\"${OUTPUT_DIR}/output_tflite_graph.tflite\"   --graph_def_file=\"${OUTPUT_DIR}/tflite_graph.pb\"   --inference_type=QUANTIZED_UINT8   --input_arrays=\"${INPUT_TENSORS}\"   --output_arrays=\"${OUTPUT_TENSORS}\"   --mean_values=128   --std_dev_values=128   --input_shapes=1,300,300,3   --change_concat_input_ranges=false   --allow_nudging_weights_to_use_fast_gemm_kernel=true   --allow_custom_ops"
   ]
  },
  {
   "cell_type": "markdown",
   "metadata": {},
   "source": [
    "## 5. Compile for edgeTPU"
   ]
  },
  {
   "cell_type": "code",
   "execution_count": null,
   "metadata": {},
   "outputs": [],
   "source": [
    "! cd ~/tod_tf1/training/form_detection/ssd_mobilenet_v1_quantized_300x300_coco_2019_01_03/model1/tflite && edgetpu_compiler output_tflite_graph.tflite"
   ]
  },
  {
   "cell_type": "markdown",
   "metadata": {},
   "source": [
    "## 6. Use your trained network on the TPU : "
   ]
  },
  {
   "cell_type": "markdown",
   "metadata": {},
   "source": [
    "I use my network on the Reachy robot with this notebook : link "
   ]
  },
  {
   "cell_type": "code",
   "execution_count": null,
   "metadata": {},
   "outputs": [],
   "source": []
  }
 ],
 "metadata": {
  "kernelspec": {
   "display_name": "Python 3",
   "language": "python",
   "name": "python3"
  },
  "language_info": {
   "codemirror_mode": {
    "name": "ipython",
    "version": 3
   },
   "file_extension": ".py",
   "mimetype": "text/x-python",
   "name": "python",
   "nbconvert_exporter": "python",
   "pygments_lexer": "ipython3",
   "version": "3.8.5"
  }
 },
 "nbformat": 4,
 "nbformat_minor": 4
}
